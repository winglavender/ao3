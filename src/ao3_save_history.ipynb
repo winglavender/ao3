{
 "cells": [
  {
   "cell_type": "code",
   "execution_count": 1,
   "metadata": {},
   "outputs": [],
   "source": [
    "# introduction to the spreadsheet"
   ]
  },
  {
   "cell_type": "code",
   "execution_count": 2,
   "metadata": {},
   "outputs": [],
   "source": [
    "from ao3 import AO3\n",
    "import requests"
   ]
  },
  {
   "cell_type": "code",
   "execution_count": 3,
   "metadata": {},
   "outputs": [],
   "source": [
    "# instructions how to find cookie str"
   ]
  },
  {
   "cell_type": "code",
   "execution_count": 4,
   "metadata": {},
   "outputs": [],
   "source": [
    "req = requests.Session()\n",
    "api = AO3()\n",
    "api.login('USERNAME', 'COOKIE')\n",
    "#to access locked works, you will need to supply your username and your _otwarchive_session cookie"
   ]
  },
  {
   "cell_type": "code",
   "execution_count": 5,
   "metadata": {},
   "outputs": [],
   "source": [
    "# run something to check if login works (if not, check the cookie again)"
   ]
  },
  {
   "cell_type": "code",
   "execution_count": 9,
   "metadata": {},
   "outputs": [],
   "source": [
    "def lookup_string(work, attribute):\n",
    "    try: \n",
    "        if attribute == 'title':\n",
    "            return work.title\n",
    "        elif attribute == 'author':\n",
    "            return \",\".join(work.author)\n",
    "        elif attribute == 'url': \n",
    "            return work.url\n",
    "        elif attribute == 'rating':\n",
    "            return \",\".join(work.rating)\n",
    "        elif attribute == 'fandoms':\n",
    "            return \",\".join(work.fandoms)\n",
    "        elif attribute == 'words':\n",
    "            return work.words\n",
    "        elif attribute == 'category':\n",
    "            return \",\".join(work.category)\n",
    "        elif attribute == 'relationship':\n",
    "            return \",\".join(work.relationship)\n",
    "        elif attribute == 'characters':\n",
    "            return \",\".join(work.characters)\n",
    "        elif attribute == 'additional_tags':\n",
    "            return \",\".join(work.additional_tags)\n",
    "        elif attribute == 'bookmarks':\n",
    "            return work.bookmarks\n",
    "        elif attribute == 'kudos':\n",
    "            return work.kudos\n",
    "        elif attribute == 'hits':\n",
    "            return work.hits\n",
    "        elif attribute == 'comments':\n",
    "            return work.comments\n",
    "    except: \n",
    "        return \"N/A\""
   ]
  },
  {
   "cell_type": "code",
   "execution_count": 13,
   "metadata": {},
   "outputs": [
    {
     "name": "stdout",
     "output_type": "stream",
     "text": [
      "On page: 1\n",
      "Cumulative deleted works encountered: 0\n"
     ]
    },
    {
     "ename": "AttributeError",
     "evalue": "'tuple' object has no attribute 'title'",
     "output_type": "error",
     "traceback": [
      "\u001b[0;31m---------------------------------------------------------------------------\u001b[0m",
      "\u001b[0;31mAttributeError\u001b[0m                            Traceback (most recent call last)",
      "\u001b[0;32m<ipython-input-13-50bd722ffa23>\u001b[0m in \u001b[0;36m<module>\u001b[0;34m\u001b[0m\n\u001b[1;32m     11\u001b[0m             \u001b[0;32mbreak\u001b[0m\u001b[0;34m\u001b[0m\u001b[0m\n\u001b[1;32m     12\u001b[0m         \u001b[0mrow\u001b[0m \u001b[0;34m=\u001b[0m \u001b[0;34m[\u001b[0m\u001b[0;34m]\u001b[0m\u001b[0;34m\u001b[0m\u001b[0m\n\u001b[0;32m---> 13\u001b[0;31m         \u001b[0mprint\u001b[0m\u001b[0;34m(\u001b[0m\u001b[0mwork\u001b[0m\u001b[0;34m.\u001b[0m\u001b[0mtitle\u001b[0m\u001b[0;34m)\u001b[0m\u001b[0;34m\u001b[0m\u001b[0m\n\u001b[0m\u001b[1;32m     14\u001b[0m         \u001b[0;32mfor\u001b[0m \u001b[0mattribute\u001b[0m \u001b[0;32min\u001b[0m \u001b[0mheader\u001b[0m\u001b[0;34m:\u001b[0m\u001b[0;34m\u001b[0m\u001b[0m\n\u001b[1;32m     15\u001b[0m             \u001b[0mrow\u001b[0m\u001b[0;34m.\u001b[0m\u001b[0mappend\u001b[0m\u001b[0;34m(\u001b[0m\u001b[0mlookup_string\u001b[0m\u001b[0;34m(\u001b[0m\u001b[0mwork\u001b[0m\u001b[0;34m,\u001b[0m \u001b[0mattribute\u001b[0m\u001b[0;34m)\u001b[0m\u001b[0;34m)\u001b[0m\u001b[0;34m\u001b[0m\u001b[0m\n",
      "\u001b[0;31mAttributeError\u001b[0m: 'tuple' object has no attribute 'title'"
     ]
    }
   ],
   "source": [
    "import csv\n",
    "header = ['title', 'author', 'url', 'rating', 'category', 'fandoms', 'relationship', 'additional_tags', 'words', 'comments', 'kudos', 'bookmarks', 'hits']\n",
    "\n",
    "with open('bookmarks.csv', 'w', newline='') as csvfile:\n",
    "    writer = csv.writer(csvfile, delimiter='\\t', quotechar='\"', quoting=csv.QUOTE_MINIMAL)\n",
    "    writer.writerow(header)\n",
    "    for bookmark in api.user.bookmarks():\n",
    "        bookmark_row = []\n",
    "        print(bookmark.title)\n",
    "        for attribute in header:\n",
    "            bookmark_row.append(lookup_string(bookmark, attribute))\n",
    "        writer.writerow(bookmark_row)\n",
    "# print some finished message - say where the output file is \n",
    "# todo don't overwrite the file: timestamp it or something"
   ]
  },
  {
   "cell_type": "code",
   "execution_count": 15,
   "metadata": {},
   "outputs": [
    {
     "name": "stdout",
     "output_type": "stream",
     "text": [
      "On page: 1\n",
      "Cumulative deleted works encountered: 9\n",
      "On page: 2\n",
      "Cumulative deleted works encountered: 9\n",
      "On page: 3\n",
      "Cumulative deleted works encountered: 9\n"
     ]
    }
   ],
   "source": [
    "import csv\n",
    "header = ['work_id', 'date', 'numvisits', 'title', 'author', 'fandom', 'warnings', 'relationships', 'characters', 'additional_tags', 'words', 'chapters', 'comments', 'kudos', 'bookmarks', 'hits', 'pubdate']\n",
    "\n",
    "with open('history.csv', 'w', newline='') as csvfile:\n",
    "    writer = csv.writer(csvfile, delimiter='\\t', quotechar='\"', quoting=csv.QUOTE_MINIMAL)\n",
    "    writer.writerow(header)\n",
    "    count = 0\n",
    "    for work in api.user.reading_history():\n",
    "        count += 1\n",
    "        if count > 50:\n",
    "            break\n",
    "        row = []\n",
    "        for elem in work:\n",
    "            if type(elem) is list:\n",
    "                row.append(\",\".join(elem))\n",
    "            else:\n",
    "                row.append(elem)\n",
    "        writer.writerow(row)\n",
    "# print some finished message - say where the output file is \n",
    "# todo don't overwrite the file: timestamp it or something"
   ]
  },
  {
   "cell_type": "code",
   "execution_count": 10,
   "metadata": {},
   "outputs": [
    {
     "name": "stdout",
     "output_type": "stream",
     "text": [
      "On page: 1\n",
      "Cumulative deleted works encountered: 0\n",
      "('6434845', datetime.date(2021, 1, 3), '9', 'How to Make iOS Text Messages on AO3', ['CodenameCarrot', 'La_Temperanza'], ['No Fandom'], ['No Archive Warnings Apply'], [], [], ['Fanwork Research & Reference Guides'], '4,500', '2/2', '169', '1243', '1238', '44031', datetime.date(2016, 4, 10))\n"
     ]
    }
   ],
   "source": [
    "rh = api.user.reading_history()\n",
    "print(next(rh))"
   ]
  },
  {
   "cell_type": "code",
   "execution_count": 11,
   "metadata": {},
   "outputs": [
    {
     "name": "stdout",
     "output_type": "stream",
     "text": [
      "Finding page: \t1 of bookmarks. \t0 bookmarks ids found.\n",
      "Heart Duplex\n",
      "['jamesiee', 'solarperigee']\n",
      "**\n",
      "How to Make iOS Text Messages on AO3\n",
      "['CodenameCarrot', 'La_Temperanza']\n",
      "**\n"
     ]
    }
   ],
   "source": [
    "for bookmark in api.user.bookmarks():\n",
    "    print(bookmark.title)\n",
    "    print(bookmark.author)\n",
    "    print(\"**\")"
   ]
  },
  {
   "cell_type": "code",
   "execution_count": null,
   "metadata": {},
   "outputs": [],
   "source": []
  }
 ],
 "metadata": {
  "kernelspec": {
   "display_name": "Python 3",
   "language": "python",
   "name": "python3"
  },
  "language_info": {
   "codemirror_mode": {
    "name": "ipython",
    "version": 3
   },
   "file_extension": ".py",
   "mimetype": "text/x-python",
   "name": "python",
   "nbconvert_exporter": "python",
   "pygments_lexer": "ipython3",
   "version": "3.6.5"
  }
 },
 "nbformat": 4,
 "nbformat_minor": 4
}
